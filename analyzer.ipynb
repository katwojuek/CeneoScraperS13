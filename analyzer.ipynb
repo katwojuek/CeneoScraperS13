{
 "cells": [
  {
   "cell_type": "markdown",
   "metadata": {},
   "source": [
    "# Ceneo Analyzer"
   ]
  },
  {
   "cell_type": "markdown",
   "metadata": {},
   "source": [
    "## Bilbioteki"
   ]
  },
  {
   "cell_type": "code",
   "execution_count": 16,
   "metadata": {},
   "outputs": [],
   "source": [
    "import os\n",
    "import pandas as pd\n",
    "import numpy as np\n",
    "from matplotlib import pyplot as plt"
   ]
  },
  {
   "cell_type": "markdown",
   "metadata": {},
   "source": [
    "## Lista kodów wszystkich produtów, o których zostały pobrane opinie"
   ]
  },
  {
   "cell_type": "code",
   "execution_count": 2,
   "metadata": {},
   "outputs": [
    {
     "name": "stdout",
     "output_type": "stream",
     "text": [
      "156802519\n",
      "39562616\n"
     ]
    }
   ],
   "source": [
    "print(*[filename.split(\".\")[0] for filename in os.listdir(\"opinions\")], sep=\"\\n\")"
   ]
  },
  {
   "cell_type": "markdown",
   "metadata": {},
   "source": [
    "## Kod produktu, dla którego ma zostać wykonana analiza opinii"
   ]
  },
  {
   "cell_type": "code",
   "execution_count": 38,
   "metadata": {},
   "outputs": [],
   "source": [
    "product_id = input(\"Podaj kod produktu w serwisie Ceneo.pl: \")"
   ]
  },
  {
   "cell_type": "markdown",
   "metadata": {},
   "source": [
    "## Wczytanie do obiektu pandas.DataFrame opinii o wskazanym produkcie"
   ]
  },
  {
   "cell_type": "code",
   "execution_count": 39,
   "metadata": {},
   "outputs": [],
   "source": [
    "opinions = pd.read_json(f\"opinions/{product_id}.json\")"
   ]
  },
  {
   "cell_type": "code",
   "execution_count": 5,
   "metadata": {},
   "outputs": [
    {
     "data": {
      "text/html": [
       "<div>\n",
       "<style scoped>\n",
       "    .dataframe tbody tr th:only-of-type {\n",
       "        vertical-align: middle;\n",
       "    }\n",
       "\n",
       "    .dataframe tbody tr th {\n",
       "        vertical-align: top;\n",
       "    }\n",
       "\n",
       "    .dataframe thead th {\n",
       "        text-align: right;\n",
       "    }\n",
       "</style>\n",
       "<table border=\"1\" class=\"dataframe\">\n",
       "  <thead>\n",
       "    <tr style=\"text-align: right;\">\n",
       "      <th></th>\n",
       "      <th>opinion_id</th>\n",
       "      <th>author</th>\n",
       "      <th>recommendation</th>\n",
       "      <th>rating</th>\n",
       "      <th>content</th>\n",
       "      <th>pros</th>\n",
       "      <th>cons</th>\n",
       "      <th>useful</th>\n",
       "      <th>useless</th>\n",
       "      <th>publish_date</th>\n",
       "      <th>purchase_date</th>\n",
       "    </tr>\n",
       "  </thead>\n",
       "  <tbody>\n",
       "    <tr>\n",
       "      <th>0</th>\n",
       "      <td>18387464</td>\n",
       "      <td>MIODAR</td>\n",
       "      <td>Polecam</td>\n",
       "      <td>5/5</td>\n",
       "      <td>Jest to mój pierwszy tego typu blender. Postan...</td>\n",
       "      <td>[bezpieczny, bezprzewodowy, duża moc, eleganck...</td>\n",
       "      <td>[]</td>\n",
       "      <td>0</td>\n",
       "      <td>0</td>\n",
       "      <td>2024-02-11 04:05:41</td>\n",
       "      <td>2024-02-03 10:38:15</td>\n",
       "    </tr>\n",
       "    <tr>\n",
       "      <th>1</th>\n",
       "      <td>18537596</td>\n",
       "      <td>kasiulek</td>\n",
       "      <td>Polecam</td>\n",
       "      <td>5/5</td>\n",
       "      <td>Rewelacyjny, piękny dizajn, posiadam kolor mie...</td>\n",
       "      <td>[elegancki wygląd, ładny design, szybka wysyłk...</td>\n",
       "      <td>[]</td>\n",
       "      <td>0</td>\n",
       "      <td>0</td>\n",
       "      <td>2024-03-30 08:31:50</td>\n",
       "      <td>2024-03-28 07:32:50</td>\n",
       "    </tr>\n",
       "    <tr>\n",
       "      <th>2</th>\n",
       "      <td>18359374</td>\n",
       "      <td>Natalia</td>\n",
       "      <td>Polecam</td>\n",
       "      <td>5/5</td>\n",
       "      <td>Dopiero zaczynam przygodę z Blendy, ale:\\nJest...</td>\n",
       "      <td>[bezprzewodowy, elegancki wygląd, ładny design...</td>\n",
       "      <td>[]</td>\n",
       "      <td>0</td>\n",
       "      <td>0</td>\n",
       "      <td>2024-02-01 19:23:06</td>\n",
       "      <td>2024-01-28 14:47:11</td>\n",
       "    </tr>\n",
       "    <tr>\n",
       "      <th>3</th>\n",
       "      <td>18394372</td>\n",
       "      <td>angelikasitek26</td>\n",
       "      <td>Polecam</td>\n",
       "      <td>5/5</td>\n",
       "      <td>Produkt bardzo solidnie wykonany. Piękny żywy ...</td>\n",
       "      <td>[bezprzewodowy, elegancki wygląd, ładny design...</td>\n",
       "      <td>[]</td>\n",
       "      <td>0</td>\n",
       "      <td>0</td>\n",
       "      <td>2024-02-13 13:50:51</td>\n",
       "      <td>2024-02-11 23:30:15</td>\n",
       "    </tr>\n",
       "    <tr>\n",
       "      <th>4</th>\n",
       "      <td>18590279</td>\n",
       "      <td>m...0</td>\n",
       "      <td>Polecam</td>\n",
       "      <td>5/5</td>\n",
       "      <td>Bardzo fajnie urządzenie, w podróży nie trzeba...</td>\n",
       "      <td>[elegancki wygląd, ładny design, szybka wysyłk...</td>\n",
       "      <td>[]</td>\n",
       "      <td>0</td>\n",
       "      <td>0</td>\n",
       "      <td>2024-04-20 06:28:13</td>\n",
       "      <td>2024-04-10 07:08:52</td>\n",
       "    </tr>\n",
       "    <tr>\n",
       "      <th>...</th>\n",
       "      <td>...</td>\n",
       "      <td>...</td>\n",
       "      <td>...</td>\n",
       "      <td>...</td>\n",
       "      <td>...</td>\n",
       "      <td>...</td>\n",
       "      <td>...</td>\n",
       "      <td>...</td>\n",
       "      <td>...</td>\n",
       "      <td>...</td>\n",
       "      <td>...</td>\n",
       "    </tr>\n",
       "    <tr>\n",
       "      <th>128</th>\n",
       "      <td>18002927</td>\n",
       "      <td>Użytkownik Ceneo</td>\n",
       "      <td>Polecam</td>\n",
       "      <td>5/5</td>\n",
       "      <td>Czekałem na premierę wersji 3 i się nie zawiod...</td>\n",
       "      <td>[]</td>\n",
       "      <td>[]</td>\n",
       "      <td>0</td>\n",
       "      <td>0</td>\n",
       "      <td>2023-10-15 19:52:06</td>\n",
       "      <td>None</td>\n",
       "    </tr>\n",
       "    <tr>\n",
       "      <th>129</th>\n",
       "      <td>18057101</td>\n",
       "      <td>Użytkownik Ceneo</td>\n",
       "      <td>Polecam</td>\n",
       "      <td>5/5</td>\n",
       "      <td>To mój pierwszy blender od Blendy go i jest to...</td>\n",
       "      <td>[bezprzewodowy, elegancki wygląd, można pić z ...</td>\n",
       "      <td>[]</td>\n",
       "      <td>0</td>\n",
       "      <td>0</td>\n",
       "      <td>2023-11-01 20:12:48</td>\n",
       "      <td>None</td>\n",
       "    </tr>\n",
       "    <tr>\n",
       "      <th>130</th>\n",
       "      <td>18022873</td>\n",
       "      <td>Dmitrij</td>\n",
       "      <td>Polecam</td>\n",
       "      <td>5/5</td>\n",
       "      <td>blender jest świetny. Szukałem przenośnego. Do...</td>\n",
       "      <td>[bezprzewodowy, elegancki wygląd, można pić z ...</td>\n",
       "      <td>[]</td>\n",
       "      <td>0</td>\n",
       "      <td>0</td>\n",
       "      <td>2023-10-20 17:53:20</td>\n",
       "      <td>None</td>\n",
       "    </tr>\n",
       "    <tr>\n",
       "      <th>131</th>\n",
       "      <td>17903116</td>\n",
       "      <td>Użytkownik Ceneo</td>\n",
       "      <td>Polecam</td>\n",
       "      <td>5/5</td>\n",
       "      <td>Jest super😀</td>\n",
       "      <td>[]</td>\n",
       "      <td>[]</td>\n",
       "      <td>0</td>\n",
       "      <td>0</td>\n",
       "      <td>2023-09-14 21:25:19</td>\n",
       "      <td>None</td>\n",
       "    </tr>\n",
       "    <tr>\n",
       "      <th>132</th>\n",
       "      <td>17947654</td>\n",
       "      <td>Użytkownik Ceneo</td>\n",
       "      <td>Polecam</td>\n",
       "      <td>5/5</td>\n",
       "      <td>Polecam</td>\n",
       "      <td>[bezprzewodowy, blenduje mrożonki, cichy, cięż...</td>\n",
       "      <td>[]</td>\n",
       "      <td>0</td>\n",
       "      <td>0</td>\n",
       "      <td>2023-09-28 10:40:52</td>\n",
       "      <td>None</td>\n",
       "    </tr>\n",
       "  </tbody>\n",
       "</table>\n",
       "<p>133 rows × 11 columns</p>\n",
       "</div>"
      ],
      "text/plain": [
       "     opinion_id            author recommendation rating  \\\n",
       "0      18387464            MIODAR        Polecam    5/5   \n",
       "1      18537596          kasiulek        Polecam    5/5   \n",
       "2      18359374           Natalia        Polecam    5/5   \n",
       "3      18394372   angelikasitek26        Polecam    5/5   \n",
       "4      18590279             m...0        Polecam    5/5   \n",
       "..          ...               ...            ...    ...   \n",
       "128    18002927  Użytkownik Ceneo        Polecam    5/5   \n",
       "129    18057101  Użytkownik Ceneo        Polecam    5/5   \n",
       "130    18022873           Dmitrij        Polecam    5/5   \n",
       "131    17903116  Użytkownik Ceneo        Polecam    5/5   \n",
       "132    17947654  Użytkownik Ceneo        Polecam    5/5   \n",
       "\n",
       "                                               content  \\\n",
       "0    Jest to mój pierwszy tego typu blender. Postan...   \n",
       "1    Rewelacyjny, piękny dizajn, posiadam kolor mie...   \n",
       "2    Dopiero zaczynam przygodę z Blendy, ale:\\nJest...   \n",
       "3    Produkt bardzo solidnie wykonany. Piękny żywy ...   \n",
       "4    Bardzo fajnie urządzenie, w podróży nie trzeba...   \n",
       "..                                                 ...   \n",
       "128  Czekałem na premierę wersji 3 i się nie zawiod...   \n",
       "129  To mój pierwszy blender od Blendy go i jest to...   \n",
       "130  blender jest świetny. Szukałem przenośnego. Do...   \n",
       "131                                        Jest super😀   \n",
       "132                                            Polecam   \n",
       "\n",
       "                                                  pros cons  useful  useless  \\\n",
       "0    [bezpieczny, bezprzewodowy, duża moc, eleganck...   []       0        0   \n",
       "1    [elegancki wygląd, ładny design, szybka wysyłk...   []       0        0   \n",
       "2    [bezprzewodowy, elegancki wygląd, ładny design...   []       0        0   \n",
       "3    [bezprzewodowy, elegancki wygląd, ładny design...   []       0        0   \n",
       "4    [elegancki wygląd, ładny design, szybka wysyłk...   []       0        0   \n",
       "..                                                 ...  ...     ...      ...   \n",
       "128                                                 []   []       0        0   \n",
       "129  [bezprzewodowy, elegancki wygląd, można pić z ...   []       0        0   \n",
       "130  [bezprzewodowy, elegancki wygląd, można pić z ...   []       0        0   \n",
       "131                                                 []   []       0        0   \n",
       "132  [bezprzewodowy, blenduje mrożonki, cichy, cięż...   []       0        0   \n",
       "\n",
       "            publish_date        purchase_date  \n",
       "0    2024-02-11 04:05:41  2024-02-03 10:38:15  \n",
       "1    2024-03-30 08:31:50  2024-03-28 07:32:50  \n",
       "2    2024-02-01 19:23:06  2024-01-28 14:47:11  \n",
       "3    2024-02-13 13:50:51  2024-02-11 23:30:15  \n",
       "4    2024-04-20 06:28:13  2024-04-10 07:08:52  \n",
       "..                   ...                  ...  \n",
       "128  2023-10-15 19:52:06                 None  \n",
       "129  2023-11-01 20:12:48                 None  \n",
       "130  2023-10-20 17:53:20                 None  \n",
       "131  2023-09-14 21:25:19                 None  \n",
       "132  2023-09-28 10:40:52                 None  \n",
       "\n",
       "[133 rows x 11 columns]"
      ]
     },
     "execution_count": 5,
     "metadata": {},
     "output_type": "execute_result"
    }
   ],
   "source": [
    "opinions"
   ]
  },
  {
   "cell_type": "markdown",
   "metadata": {},
   "source": [
    "## Przekształcanie danych"
   ]
  },
  {
   "cell_type": "code",
   "execution_count": 40,
   "metadata": {},
   "outputs": [],
   "source": [
    "opinions.rating = opinions.rating.apply(lambda rate: rate.split(\"/\")[0].replace(\",\",\".\")).astype(float)"
   ]
  },
  {
   "cell_type": "markdown",
   "metadata": {},
   "source": [
    "## Podstawowe statystyki"
   ]
  },
  {
   "cell_type": "code",
   "execution_count": 7,
   "metadata": {},
   "outputs": [],
   "source": [
    "opinions_count = opinions.shape[0]\n",
    "pros_count = opinions.pros.astype(bool).sum()\n",
    "cons_count = opinions.cons.astype(bool).sum()\n",
    "average_rating = opinions.rating.mean()"
   ]
  },
  {
   "cell_type": "markdown",
   "metadata": {},
   "source": [
    "## Histogram częstości poszczególnych ocen w opiniach o produkcie"
   ]
  },
  {
   "cell_type": "code",
   "execution_count": 41,
   "metadata": {},
   "outputs": [
    {
     "data": {
      "text/plain": [
       "[Text(0, 0, ''),\n",
       " Text(0, 0, '3'),\n",
       " Text(0, 0, '1'),\n",
       " Text(0, 0, '2'),\n",
       " Text(0, 0, '1'),\n",
       " Text(0, 0, ''),\n",
       " Text(0, 0, '5'),\n",
       " Text(0, 0, '3'),\n",
       " Text(0, 0, '19'),\n",
       " Text(0, 0, '19'),\n",
       " Text(0, 0, '79')]"
      ]
     },
     "execution_count": 41,
     "metadata": {},
     "output_type": "execute_result"
    },
    {
     "data": {
      "image/png": "[encoded data removed]",
      "text/plain": [
       "<Figure size 640x480 with 1 Axes>"
      ]
     },
     "metadata": {},
     "output_type": "display_data"
    }
   ],
   "source": [
    "rating_distribution = opinions.rating.value_counts().reindex(np.arange(0,5.5,0.5), fill_value = 0)\n",
    "fig, ax = plt.subplots()\n",
    "rating_distribution.plot.bar(color = \"hotpink\")\n",
    "plt.xticks(rotation = 0)\n",
    "plt.xlabel(\"Liczba gwiazdek\")\n",
    "plt.ylabel(\"Liczba opinii\")\n",
    "plt.title(\"Histogram częstości ocen w opiniach\")\n",
    "ax.bar_label(ax.containers[0], label_type='edge', fmt=lambda x: int(x) if x > 0 else '')"
   ]
  },
  {
   "cell_type": "markdown",
   "metadata": {},
   "source": [
    "## Udział poszczególnych rekomendacji w opiniach o produkcie"
   ]
  },
  {
   "cell_type": "code",
   "execution_count": 44,
   "metadata": {},
   "outputs": [
    {
     "data": {
      "text/plain": [
       "Text(0.5, 1.0, 'Udział rekomendacji w opiniach')"
      ]
     },
     "execution_count": 44,
     "metadata": {},
     "output_type": "execute_result"
    },
    {
     "data": {
      "image/png": "[encoded data removed]",
      "text/plain": [
       "<Figure size 640x480 with 1 Axes>"
      ]
     },
     "metadata": {},
     "output_type": "display_data"
    }
   ],
   "source": [
    "recommendation_distribution = opinions.recommendation.value_counts(dropna=False).reindex([\"Polecam\", \"Nie polecam\", None])\n",
    "recommendation_distribution.plot.pie(\n",
    "    label=\"\",\n",
    "    colors = [\"seagreen\", \"palevioletred\", \"thistle\"],\n",
    "    labels = [\"Polecam\", \"Nie polecam\", \"Nie mam zdania\"]\n",
    ")\n",
    "plt.title(\"Udział rekomendacji w opiniach\")"
   ]
  }
 ],
 "metadata": {
  "kernelspec": {
   "display_name": ".venv",
   "language": "python",
   "name": "python3"
  },
  "language_info": {
   "codemirror_mode": {
    "name": "ipython",
    "version": 3
   },
   "file_extension": ".py",
   "mimetype": "text/x-python",
   "name": "python",
   "nbconvert_exporter": "python",
   "pygments_lexer": "ipython3",
   "version": "3.11.4"
  }
 },
 "nbformat": 4,
 "nbformat_minor": 2
}
